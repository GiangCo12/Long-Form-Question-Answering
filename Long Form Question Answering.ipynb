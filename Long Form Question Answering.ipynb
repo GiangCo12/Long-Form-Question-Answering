{
 "cells": [
  {
   "cell_type": "code",
   "execution_count": 1,
   "metadata": {},
   "outputs": [
    {
     "name": "stdout",
     "output_type": "stream",
     "text": [
      "Requirement already satisfied: elasticsearch in /Users/user/anaconda3/lib/python3.11/site-packages (7.17.9)\n",
      "Requirement already satisfied: urllib3<2,>=1.21.1 in /Users/user/anaconda3/lib/python3.11/site-packages (from elasticsearch) (1.26.16)\n",
      "Requirement already satisfied: certifi in /Users/user/anaconda3/lib/python3.11/site-packages (from elasticsearch) (2023.7.22)\n",
      "Requirement already satisfied: faiss_cpu in /Users/user/anaconda3/lib/python3.11/site-packages (1.8.0.post1)\n",
      "Requirement already satisfied: numpy<2.0,>=1.0 in /Users/user/anaconda3/lib/python3.11/site-packages (from faiss_cpu) (1.24.3)\n",
      "Requirement already satisfied: packaging in /Users/user/anaconda3/lib/python3.11/site-packages (from faiss_cpu) (23.1)\n",
      "Requirement already satisfied: nlp in /Users/user/anaconda3/lib/python3.11/site-packages (0.4.0)\n",
      "Requirement already satisfied: numpy in /Users/user/anaconda3/lib/python3.11/site-packages (from nlp) (1.24.3)\n",
      "Requirement already satisfied: pyarrow>=0.16.0 in /Users/user/anaconda3/lib/python3.11/site-packages (from nlp) (11.0.0)\n",
      "Requirement already satisfied: dill in /Users/user/anaconda3/lib/python3.11/site-packages (from nlp) (0.3.1.1)\n",
      "Requirement already satisfied: pandas in /Users/user/anaconda3/lib/python3.11/site-packages (from nlp) (2.0.3)\n",
      "Requirement already satisfied: requests>=2.19.0 in /Users/user/anaconda3/lib/python3.11/site-packages (from nlp) (2.31.0)\n",
      "Requirement already satisfied: tqdm>=4.27 in /Users/user/anaconda3/lib/python3.11/site-packages (from nlp) (4.65.0)\n",
      "Requirement already satisfied: filelock in /Users/user/anaconda3/lib/python3.11/site-packages (from nlp) (3.9.0)\n",
      "Requirement already satisfied: xxhash in /Users/user/anaconda3/lib/python3.11/site-packages (from nlp) (2.0.2)\n",
      "Requirement already satisfied: charset-normalizer<4,>=2 in /Users/user/anaconda3/lib/python3.11/site-packages (from requests>=2.19.0->nlp) (2.0.4)\n",
      "Requirement already satisfied: idna<4,>=2.5 in /Users/user/anaconda3/lib/python3.11/site-packages (from requests>=2.19.0->nlp) (3.7)\n",
      "Requirement already satisfied: urllib3<3,>=1.21.1 in /Users/user/anaconda3/lib/python3.11/site-packages (from requests>=2.19.0->nlp) (1.26.16)\n",
      "Requirement already satisfied: certifi>=2017.4.17 in /Users/user/anaconda3/lib/python3.11/site-packages (from requests>=2.19.0->nlp) (2023.7.22)\n",
      "Requirement already satisfied: python-dateutil>=2.8.2 in /Users/user/anaconda3/lib/python3.11/site-packages (from pandas->nlp) (2.8.2)\n",
      "Requirement already satisfied: pytz>=2020.1 in /Users/user/anaconda3/lib/python3.11/site-packages (from pandas->nlp) (2023.3.post1)\n",
      "Requirement already satisfied: tzdata>=2022.1 in /Users/user/anaconda3/lib/python3.11/site-packages (from pandas->nlp) (2023.3)\n",
      "Requirement already satisfied: six>=1.5 in /Users/user/anaconda3/lib/python3.11/site-packages (from python-dateutil>=2.8.2->pandas->nlp) (1.16.0)\n",
      "Requirement already satisfied: transformers in /Users/user/anaconda3/lib/python3.11/site-packages (4.46.0.dev0)\n",
      "Requirement already satisfied: filelock in /Users/user/anaconda3/lib/python3.11/site-packages (from transformers) (3.9.0)\n",
      "Requirement already satisfied: huggingface-hub<1.0,>=0.23.2 in /Users/user/anaconda3/lib/python3.11/site-packages (from transformers) (0.25.1)\n",
      "Requirement already satisfied: numpy>=1.17 in /Users/user/anaconda3/lib/python3.11/site-packages (from transformers) (1.24.3)\n",
      "Requirement already satisfied: packaging>=20.0 in /Users/user/anaconda3/lib/python3.11/site-packages (from transformers) (23.1)\n",
      "Requirement already satisfied: pyyaml>=5.1 in /Users/user/anaconda3/lib/python3.11/site-packages (from transformers) (6.0)\n",
      "Requirement already satisfied: regex!=2019.12.17 in /Users/user/anaconda3/lib/python3.11/site-packages (from transformers) (2022.7.9)\n",
      "Requirement already satisfied: requests in /Users/user/anaconda3/lib/python3.11/site-packages (from transformers) (2.31.0)\n",
      "Requirement already satisfied: tokenizers<0.21,>=0.20 in /Users/user/anaconda3/lib/python3.11/site-packages (from transformers) (0.20.0)\n",
      "Requirement already satisfied: safetensors>=0.4.1 in /Users/user/anaconda3/lib/python3.11/site-packages (from transformers) (0.4.5)\n",
      "Requirement already satisfied: tqdm>=4.27 in /Users/user/anaconda3/lib/python3.11/site-packages (from transformers) (4.65.0)\n",
      "Requirement already satisfied: fsspec>=2023.5.0 in /Users/user/anaconda3/lib/python3.11/site-packages (from huggingface-hub<1.0,>=0.23.2->transformers) (2024.9.0)\n",
      "Requirement already satisfied: typing-extensions>=3.7.4.3 in /Users/user/anaconda3/lib/python3.11/site-packages (from huggingface-hub<1.0,>=0.23.2->transformers) (4.10.0)\n",
      "Requirement already satisfied: charset-normalizer<4,>=2 in /Users/user/anaconda3/lib/python3.11/site-packages (from requests->transformers) (2.0.4)\n",
      "Requirement already satisfied: idna<4,>=2.5 in /Users/user/anaconda3/lib/python3.11/site-packages (from requests->transformers) (3.7)\n",
      "Requirement already satisfied: urllib3<3,>=1.21.1 in /Users/user/anaconda3/lib/python3.11/site-packages (from requests->transformers) (1.26.16)\n",
      "Requirement already satisfied: certifi>=2017.4.17 in /Users/user/anaconda3/lib/python3.11/site-packages (from requests->transformers) (2023.7.22)\n",
      "Requirement already satisfied: apache_beam in /Users/user/anaconda3/lib/python3.11/site-packages (2.59.0)\n",
      "Requirement already satisfied: crcmod<2.0,>=1.7 in /Users/user/anaconda3/lib/python3.11/site-packages (from apache_beam) (1.7)\n",
      "Requirement already satisfied: orjson<4,>=3.9.7 in /Users/user/anaconda3/lib/python3.11/site-packages (from apache_beam) (3.10.7)\n",
      "Requirement already satisfied: dill<0.3.2,>=0.3.1.1 in /Users/user/anaconda3/lib/python3.11/site-packages (from apache_beam) (0.3.1.1)\n",
      "Requirement already satisfied: cloudpickle~=2.2.1 in /Users/user/anaconda3/lib/python3.11/site-packages (from apache_beam) (2.2.1)\n",
      "Requirement already satisfied: fastavro<2,>=0.23.6 in /Users/user/anaconda3/lib/python3.11/site-packages (from apache_beam) (1.9.7)\n",
      "Requirement already satisfied: fasteners<1.0,>=0.3 in /Users/user/anaconda3/lib/python3.11/site-packages (from apache_beam) (0.19)\n",
      "Requirement already satisfied: grpcio!=1.48.0,!=1.59.*,!=1.60.*,!=1.61.*,!=1.62.0,!=1.62.1,<2,>=1.33.1 in /Users/user/anaconda3/lib/python3.11/site-packages (from apache_beam) (1.66.2)\n",
      "Requirement already satisfied: hdfs<3.0.0,>=2.1.0 in /Users/user/anaconda3/lib/python3.11/site-packages (from apache_beam) (2.7.3)\n",
      "Requirement already satisfied: httplib2<0.23.0,>=0.8 in /Users/user/anaconda3/lib/python3.11/site-packages (from apache_beam) (0.22.0)\n",
      "Requirement already satisfied: jsonschema<5.0.0,>=4.0.0 in /Users/user/anaconda3/lib/python3.11/site-packages (from apache_beam) (4.17.3)\n",
      "Requirement already satisfied: jsonpickle<4.0.0,>=3.0.0 in /Users/user/anaconda3/lib/python3.11/site-packages (from apache_beam) (3.3.0)\n",
      "Requirement already satisfied: numpy<1.27.0,>=1.14.3 in /Users/user/anaconda3/lib/python3.11/site-packages (from apache_beam) (1.24.3)\n",
      "Requirement already satisfied: objsize<0.8.0,>=0.6.1 in /Users/user/anaconda3/lib/python3.11/site-packages (from apache_beam) (0.7.0)\n",
      "Requirement already satisfied: packaging>=22.0 in /Users/user/anaconda3/lib/python3.11/site-packages (from apache_beam) (23.1)\n",
      "Requirement already satisfied: pymongo<5.0.0,>=3.8.0 in /Users/user/anaconda3/lib/python3.11/site-packages (from apache_beam) (4.10.1)\n",
      "Requirement already satisfied: proto-plus<2,>=1.7.1 in /Users/user/anaconda3/lib/python3.11/site-packages (from apache_beam) (1.24.0)\n",
      "Requirement already satisfied: protobuf!=4.0.*,!=4.21.*,!=4.22.0,!=4.23.*,!=4.24.*,<4.26.0,>=3.20.3 in /Users/user/anaconda3/lib/python3.11/site-packages (from apache_beam) (4.25.3)\n",
      "Requirement already satisfied: pydot<2,>=1.2.0 in /Users/user/anaconda3/lib/python3.11/site-packages (from apache_beam) (1.4.2)\n",
      "Requirement already satisfied: python-dateutil<3,>=2.8.0 in /Users/user/anaconda3/lib/python3.11/site-packages (from apache_beam) (2.8.2)\n",
      "Requirement already satisfied: pytz>=2018.3 in /Users/user/anaconda3/lib/python3.11/site-packages (from apache_beam) (2023.3.post1)\n",
      "Requirement already satisfied: redis<6,>=5.0.0 in /Users/user/anaconda3/lib/python3.11/site-packages (from apache_beam) (5.1.1)\n",
      "Requirement already satisfied: regex>=2020.6.8 in /Users/user/anaconda3/lib/python3.11/site-packages (from apache_beam) (2022.7.9)\n",
      "Requirement already satisfied: requests<3.0.0,>=2.24.0 in /Users/user/anaconda3/lib/python3.11/site-packages (from apache_beam) (2.31.0)\n",
      "Requirement already satisfied: typing-extensions>=3.7.0 in /Users/user/anaconda3/lib/python3.11/site-packages (from apache_beam) (4.10.0)\n",
      "Requirement already satisfied: zstandard<1,>=0.18.0 in /Users/user/anaconda3/lib/python3.11/site-packages (from apache_beam) (0.19.0)\n",
      "Requirement already satisfied: pyarrow<17.0.0,>=3.0.0 in /Users/user/anaconda3/lib/python3.11/site-packages (from apache_beam) (11.0.0)\n",
      "Requirement already satisfied: pyarrow-hotfix<1 in /Users/user/anaconda3/lib/python3.11/site-packages (from apache_beam) (0.6)\n",
      "Requirement already satisfied: js2py<1,>=0.74 in /Users/user/anaconda3/lib/python3.11/site-packages (from apache_beam) (0.74)\n",
      "Requirement already satisfied: docopt in /Users/user/anaconda3/lib/python3.11/site-packages (from hdfs<3.0.0,>=2.1.0->apache_beam) (0.6.2)\n",
      "Requirement already satisfied: six>=1.9.0 in /Users/user/anaconda3/lib/python3.11/site-packages (from hdfs<3.0.0,>=2.1.0->apache_beam) (1.16.0)\n",
      "Requirement already satisfied: pyparsing!=3.0.0,!=3.0.1,!=3.0.2,!=3.0.3,<4,>=2.4.2 in /Users/user/anaconda3/lib/python3.11/site-packages (from httplib2<0.23.0,>=0.8->apache_beam) (3.0.9)\n",
      "Requirement already satisfied: tzlocal>=1.2 in /Users/user/anaconda3/lib/python3.11/site-packages (from js2py<1,>=0.74->apache_beam) (5.2)\n",
      "Requirement already satisfied: pyjsparser>=2.5.1 in /Users/user/anaconda3/lib/python3.11/site-packages (from js2py<1,>=0.74->apache_beam) (2.7.1)\n",
      "Requirement already satisfied: attrs>=17.4.0 in /Users/user/anaconda3/lib/python3.11/site-packages (from jsonschema<5.0.0,>=4.0.0->apache_beam) (22.1.0)\n",
      "Requirement already satisfied: pyrsistent!=0.17.0,!=0.17.1,!=0.17.2,>=0.14.0 in /Users/user/anaconda3/lib/python3.11/site-packages (from jsonschema<5.0.0,>=4.0.0->apache_beam) (0.18.0)\n",
      "Requirement already satisfied: dnspython<3.0.0,>=1.16.0 in /Users/user/anaconda3/lib/python3.11/site-packages (from pymongo<5.0.0,>=3.8.0->apache_beam) (2.7.0)\n",
      "Requirement already satisfied: charset-normalizer<4,>=2 in /Users/user/anaconda3/lib/python3.11/site-packages (from requests<3.0.0,>=2.24.0->apache_beam) (2.0.4)\n",
      "Requirement already satisfied: idna<4,>=2.5 in /Users/user/anaconda3/lib/python3.11/site-packages (from requests<3.0.0,>=2.24.0->apache_beam) (3.7)\n",
      "Requirement already satisfied: urllib3<3,>=1.21.1 in /Users/user/anaconda3/lib/python3.11/site-packages (from requests<3.0.0,>=2.24.0->apache_beam) (1.26.16)\n",
      "Requirement already satisfied: certifi>=2017.4.17 in /Users/user/anaconda3/lib/python3.11/site-packages (from requests<3.0.0,>=2.24.0->apache_beam) (2023.7.22)\n"
     ]
    }
   ],
   "source": [
    "!pip install elasticsearch\n",
    "!pip install faiss_cpu   # (thay vì faiss_gpu cho Mac M1 như mình đã giải thích)\n",
    "!pip install nlp    # thay thế cho 'nlp'\n",
    "!pip install transformers\n",
    "!pip install apache_beam\n",
    "\n"
   ]
  },
  {
   "cell_type": "code",
   "execution_count": 6,
   "metadata": {},
   "outputs": [],
   "source": [
    "import nlp\n",
    "eli5 = nlp.load_dataset('eli5')\n",
    "wiki40b_snippets = nlp.load_dataset('wiki_snippets', name='wiki40b_en_100_0')['train']"
   ]
  },
  {
   "cell_type": "code",
   "execution_count": 2,
   "metadata": {},
   "outputs": [
    {
     "name": "stdout",
     "output_type": "stream",
     "text": [
      "Collecting git+https://github.com/huggingface/transformers.git\n",
      "  Cloning https://github.com/huggingface/transformers.git to /private/var/folders/m4/1s7c462d1g77twlp95_rgycm0000gn/T/pip-req-build-m64alxp_\n",
      "  Running command git clone --filter=blob:none --quiet https://github.com/huggingface/transformers.git /private/var/folders/m4/1s7c462d1g77twlp95_rgycm0000gn/T/pip-req-build-m64alxp_\n",
      "  Resolved https://github.com/huggingface/transformers.git to commit fa3f2db5c7405a742fcb8f686d3754f70db00977\n",
      "  Installing build dependencies ... \u001b[?25ldone\n",
      "\u001b[?25h  Getting requirements to build wheel ... \u001b[?25ldone\n",
      "\u001b[?25h  Preparing metadata (pyproject.toml) ... \u001b[?25ldone\n",
      "\u001b[?25hRequirement already satisfied: filelock in /Users/user/anaconda3/lib/python3.11/site-packages (from transformers==4.46.0.dev0) (3.9.0)\n",
      "Requirement already satisfied: huggingface-hub<1.0,>=0.23.2 in /Users/user/anaconda3/lib/python3.11/site-packages (from transformers==4.46.0.dev0) (0.25.1)\n",
      "Requirement already satisfied: numpy>=1.17 in /Users/user/anaconda3/lib/python3.11/site-packages (from transformers==4.46.0.dev0) (1.24.3)\n",
      "Requirement already satisfied: packaging>=20.0 in /Users/user/anaconda3/lib/python3.11/site-packages (from transformers==4.46.0.dev0) (23.1)\n",
      "Requirement already satisfied: pyyaml>=5.1 in /Users/user/anaconda3/lib/python3.11/site-packages (from transformers==4.46.0.dev0) (6.0)\n",
      "Requirement already satisfied: regex!=2019.12.17 in /Users/user/anaconda3/lib/python3.11/site-packages (from transformers==4.46.0.dev0) (2022.7.9)\n",
      "Requirement already satisfied: requests in /Users/user/anaconda3/lib/python3.11/site-packages (from transformers==4.46.0.dev0) (2.31.0)\n",
      "Requirement already satisfied: tokenizers<0.21,>=0.20 in /Users/user/anaconda3/lib/python3.11/site-packages (from transformers==4.46.0.dev0) (0.20.0)\n",
      "Requirement already satisfied: safetensors>=0.4.1 in /Users/user/anaconda3/lib/python3.11/site-packages (from transformers==4.46.0.dev0) (0.4.5)\n",
      "Requirement already satisfied: tqdm>=4.27 in /Users/user/anaconda3/lib/python3.11/site-packages (from transformers==4.46.0.dev0) (4.65.0)\n",
      "Requirement already satisfied: fsspec>=2023.5.0 in /Users/user/anaconda3/lib/python3.11/site-packages (from huggingface-hub<1.0,>=0.23.2->transformers==4.46.0.dev0) (2024.9.0)\n",
      "Requirement already satisfied: typing-extensions>=3.7.4.3 in /Users/user/anaconda3/lib/python3.11/site-packages (from huggingface-hub<1.0,>=0.23.2->transformers==4.46.0.dev0) (4.10.0)\n",
      "Requirement already satisfied: charset-normalizer<4,>=2 in /Users/user/anaconda3/lib/python3.11/site-packages (from requests->transformers==4.46.0.dev0) (2.0.4)\n",
      "Requirement already satisfied: idna<4,>=2.5 in /Users/user/anaconda3/lib/python3.11/site-packages (from requests->transformers==4.46.0.dev0) (3.7)\n",
      "Requirement already satisfied: urllib3<3,>=1.21.1 in /Users/user/anaconda3/lib/python3.11/site-packages (from requests->transformers==4.46.0.dev0) (1.26.16)\n",
      "Requirement already satisfied: certifi>=2017.4.17 in /Users/user/anaconda3/lib/python3.11/site-packages (from requests->transformers==4.46.0.dev0) (2023.7.22)\n",
      "Note: you may need to restart the kernel to use updated packages.\n"
     ]
    }
   ],
   "source": [
    "pip install git+https://github.com/huggingface/transformers.git\n"
   ]
  },
  {
   "cell_type": "code",
   "execution_count": 3,
   "metadata": {},
   "outputs": [],
   "source": [
    "import sys\n",
    "sys.path.append('/Users/user')\n",
    "from lfqa_utils import *\n"
   ]
  },
  {
   "cell_type": "code",
   "execution_count": 7,
   "metadata": {},
   "outputs": [
    {
     "data": {
      "text/plain": [
       "{'q_id': '8houtx',\n",
       " 'title': 'Why does water heated to room temperature feel colder than the air around it?',\n",
       " 'selftext': '',\n",
       " 'document': '',\n",
       " 'subreddit': 'explainlikeimfive',\n",
       " 'answers': {'a_id': ['dylcnfk', 'dylcj49'],\n",
       "  'text': [\"Water transfers heat more efficiently than air. When something feels cold it's because heat is being transferred from your skin to whatever you're touching. Since water absorbs the heat more readily than air, it feels colder.\",\n",
       "   \"Air isn't as good at transferring heat compared to something like water or steel (sit on a room temperature steel bench vs. a room temperature wooden bench, and the steel one will feel more cold).\\n\\nWhen you feel cold, what you're feeling is heat being transferred out of you.  If there is no breeze, you feel a certain way.  If there's a breeze, you will get colder faster (because the moving air is pulling the heat away from you), and if you get into water, its quite good at pulling heat from you.   Get out of the water and have a breeze blow on you while you're wet, all of the water starts evaporating, pulling even more heat from you.\"],\n",
       "  'score': [5, 2]},\n",
       " 'title_urls': {'url': []},\n",
       " 'selftext_urls': {'url': []},\n",
       " 'answers_urls': {'url': []}}"
      ]
     },
     "execution_count": 7,
     "metadata": {},
     "output_type": "execute_result"
    }
   ],
   "source": [
    "eli5['test_eli5'][12345]"
   ]
  },
  {
   "cell_type": "code",
   "execution_count": 8,
   "metadata": {},
   "outputs": [
    {
     "data": {
      "text/plain": [
       "{'_id': '{\"nlp_id\": 1665419, \"wiki_id\": \"Q179635\", \"sp\": 12, \"sc\": 653, \"ep\": 12, \"ec\": 1223}',\n",
       " 'article_title': 'Heat transfer',\n",
       " 'end_character': 1223,\n",
       " 'end_paragraph': 12,\n",
       " 'nlp_id': 1665419,\n",
       " 'passage_text': 'from one place to another place without the movement of particles is called conduction, such as when placing a hand on a cold glass of water - heat is conducted from the warm skin to the cold glass, but if the hand is held a few inches from the glass, little conduction would occur since air is a poor conductor of heat. Steady state conduction is an idealized model of conduction that happens when the temperature difference driving the conduction is constant, so that after a time, the spatial distribution of temperatures in the conducting object does not change any',\n",
       " 'section_title': 'Conduction',\n",
       " 'start_character': 653,\n",
       " 'start_paragraph': 12,\n",
       " 'wiki_id': 'Q179635'}"
      ]
     },
     "execution_count": 8,
     "metadata": {},
     "output_type": "execute_result"
    }
   ],
   "source": [
    "wiki40b_snippets[8991855]\n"
   ]
  },
  {
   "cell_type": "code",
   "execution_count": 9,
   "metadata": {},
   "outputs": [],
   "source": [
    "es_client = Elasticsearch(\n",
    "    [{'host': 'localhost', 'port': 9200, 'scheme': 'http'}],\n",
    ")\n"
   ]
  },
  {
   "cell_type": "code",
   "execution_count": 10,
   "metadata": {},
   "outputs": [
    {
     "name": "stdout",
     "output_type": "stream",
     "text": [
      "{'took': 70, 'timed_out': False, '_shards': {'total': 1, 'successful': 1, 'skipped': 0, 'failed': 0}, 'hits': {'total': {'value': 0, 'relation': 'eq'}, 'max_score': None, 'hits': []}}\n"
     ]
    },
    {
     "name": "stderr",
     "output_type": "stream",
     "text": [
      "/var/folders/m4/1s7c462d1g77twlp95_rgycm0000gn/T/ipykernel_887/1593372765.py:36: DeprecationWarning: The 'body' parameter is deprecated for the 'search' API and will be removed in a future version. Instead use API parameters directly. See https://github.com/elastic/elasticsearch-py/issues/1698 for more information\n",
      "  response = es_client.search(\n"
     ]
    }
   ],
   "source": [
    "from elasticsearch import Elasticsearch\n",
    "\n",
    "# Kết nối đến Elasticsearch\n",
    "es_client = Elasticsearch(\"http://localhost:9200\")\n",
    "\n",
    "# Đặt tên chỉ mục\n",
    "index_name = 'wiki40b_snippets_100w'\n",
    "\n",
    "# Cấu hình chỉ mục\n",
    "index_config = {\n",
    "    \"settings\": {\n",
    "        \"number_of_shards\": 1,\n",
    "    },\n",
    "    \"mappings\": {\n",
    "        \"properties\": {\n",
    "            \"article_title\": {\"type\": \"text\"},\n",
    "            \"section_title\": {\"type\": \"text\"},\n",
    "            \"passage_text\": {\"type\": \"text\"},\n",
    "        }\n",
    "    }\n",
    "}\n",
    "\n",
    "# Tạo chỉ mục nếu chưa tồn tại\n",
    "if not es_client.indices.exists(index=index_name):\n",
    "    es_client.indices.create(index=index_name, body=index_config, headers={\"Content-Type\": \"application/json\"})\n",
    "\n",
    "# Đặt truy vấn và số lượng kết quả\n",
    "q = 'your query here'  # Đặt truy vấn của bạn vào đây\n",
    "n_results = 10  # Số lượng kết quả bạn muốn\n",
    "\n",
    "# Loại bỏ các từ bị cấm\n",
    "banned = ['how', 'why', 'what', 'where', 'which', 'do', 'does', 'is', '?', 'eli5', 'eli5:']\n",
    "q = ' '.join([w for w in q.split() if w not in banned])\n",
    "\n",
    "# Gửi truy vấn tìm kiếm\n",
    "response = es_client.search(\n",
    "    index=index_name,\n",
    "    body={\n",
    "        \"query\": {\n",
    "            \"multi_match\": {\n",
    "                \"query\": q,\n",
    "                \"fields\": [\"article_title\", \"section_title\", \"passage_text^2\"],\n",
    "                \"type\": \"cross_fields\",\n",
    "            }\n",
    "        },\n",
    "        \"size\": n_results,\n",
    "    }\n",
    ")\n",
    "\n",
    "# Xử lý kết quả tìm kiếm\n",
    "print(response)\n"
   ]
  },
  {
   "cell_type": "code",
   "execution_count": 11,
   "metadata": {},
   "outputs": [],
   "source": [
    "if not es_client.indices.exists(index='wiki40b_snippets_100w'):\n",
    "    make_es_index_snippets(es_client, wiki40b_snippets, index_name='wiki40b_snippets_100w')\n",
    "\n"
   ]
  },
  {
   "cell_type": "code",
   "execution_count": 12,
   "metadata": {},
   "outputs": [],
   "source": [
    "def query_es_index(question, es_client, index_name, size=10):\n",
    "    query_body = {\n",
    "        \"size\": size,  # Thêm tham số size vào đây\n",
    "        \"query\": {\n",
    "            \"match\": {\n",
    "                \"text\": question\n",
    "            }\n",
    "        }\n",
    "    }\n",
    "    \n",
    "    # Thực hiện truy vấn Elasticsearch\n",
    "    res = es_client.search(index=index_name, body=query_body)\n",
    "    \n",
    "    # Xử lý kết quả trả về\n",
    "    res_list = [\n",
    "        {\n",
    "            'article_title': hit['_source']['article_title'],\n",
    "            'section_title': hit['_source']['section_title'],\n",
    "            'passage_text': hit['_source']['passage_text']\n",
    "        }\n",
    "        for hit in res['hits']['hits']\n",
    "    ]\n",
    "    \n",
    "    return res, res_list\n"
   ]
  },
  {
   "cell_type": "code",
   "execution_count": 13,
   "metadata": {},
   "outputs": [
    {
     "name": "stderr",
     "output_type": "stream",
     "text": [
      "/var/folders/m4/1s7c462d1g77twlp95_rgycm0000gn/T/ipykernel_887/1084859799.py:12: DeprecationWarning: The 'body' parameter is deprecated for the 'search' API and will be removed in a future version. Instead use API parameters directly. See https://github.com/elastic/elasticsearch-py/issues/1698 for more information\n",
      "  res = es_client.search(index=index_name, body=query_body)\n"
     ]
    },
    {
     "data": {
      "text/html": [
       "<style type=\"text/css\">\n",
       "#T_618ca_row0_col0, #T_618ca_row0_col1, #T_618ca_row0_col2 {\n",
       "  text-align: left;\n",
       "}\n",
       "</style>\n",
       "<table id=\"T_618ca\">\n",
       "  <thead>\n",
       "    <tr>\n",
       "      <th class=\"blank level0\" >&nbsp;</th>\n",
       "      <th id=\"T_618ca_level0_col0\" class=\"col_heading level0 col0\" >Article</th>\n",
       "      <th id=\"T_618ca_level0_col1\" class=\"col_heading level0 col1\" >Sections</th>\n",
       "      <th id=\"T_618ca_level0_col2\" class=\"col_heading level0 col2\" >Text</th>\n",
       "    </tr>\n",
       "  </thead>\n",
       "  <tbody>\n",
       "    <tr>\n",
       "      <th id=\"T_618ca_level0_row0\" class=\"row_heading level0 row0\" >0</th>\n",
       "      <td id=\"T_618ca_row0_col0\" class=\"data row0 col0\" >---</td>\n",
       "      <td id=\"T_618ca_row0_col1\" class=\"data row0 col1\" >---</td>\n",
       "      <td id=\"T_618ca_row0_col2\" class=\"data row0 col2\" >--- Why does water heated to room temperature feel colder than the air around it?</td>\n",
       "    </tr>\n",
       "  </tbody>\n",
       "</table>\n"
      ],
      "text/plain": [
       "<pandas.io.formats.style.Styler at 0x32e2a9150>"
      ]
     },
     "execution_count": 13,
     "metadata": {},
     "output_type": "execute_result"
    }
   ],
   "source": [
    "question = eli5['test_eli5'][12345]['title']\n",
    "doc, res_list = query_es_index(question, es_client, index_name='wiki40b_snippets_100w', size=10)\n",
    "\n",
    "\n",
    "df = pd.DataFrame({\n",
    "    'Article': ['---'] + [res['article_title'] for res in res_list],\n",
    "    'Sections': ['---'] + [res['section_title'] if res['section_title'].strip() != '' else res['article_title']\n",
    "                 for res in res_list],\n",
    "    'Text': ['--- ' + question] + [res['passage_text'] for res in res_list],\n",
    "})\n",
    "df.style.set_properties(**{'text-align': 'left'})"
   ]
  },
  {
   "cell_type": "code",
   "execution_count": 14,
   "metadata": {},
   "outputs": [
    {
     "name": "stdout",
     "output_type": "stream",
     "text": [
      "PyTorch version: 2.1.2\n",
      "Is MPS (Metal Performance Shader) built? True\n",
      "Is MPS available? True\n",
      "Using device: mps\n"
     ]
    }
   ],
   "source": [
    "import torch\n",
    "import numpy as np\n",
    "import pandas as pd\n",
    "import sklearn\n",
    "import matplotlib.pyplot as plt\n",
    "print(f\"PyTorch version: {torch.__version__}\")\n",
    "# Check PyTorch has access to MPS (Metal Performance Shader, Apple's GPU architecture)\n",
    "print(f\"Is MPS (Metal Performance Shader) built? {torch.backends.mps.is_built()}\")\n",
    "print(f\"Is MPS available? {torch.backends.mps.is_available()}\")\n",
    "# Set the device      \n",
    "device = \"mps\" if torch.backends.mps.is_available() else \"cpu\"\n",
    "print(f\"Using device: {device}\")"
   ]
  },
  {
   "cell_type": "code",
   "execution_count": 13,
   "metadata": {},
   "outputs": [],
   "source": [
    "class ArgumentsQAR():\n",
    "    def __init__(self):\n",
    "        self.batch_size = 16\n",
    "        self.max_length = 128\n",
    "        self.checkpoint_batch_size = 32\n",
    "        self.print_freq = 100\n",
    "        self.pretrained_model_name = \"google/bert_uncased_L-8_H-768_A-12\"\n",
    "        self.model_save_name = \"retriever_models/eli5_retriever_model_final\"\n",
    "        self.learning_rate = 2e-4\n",
    "        self.num_epochs = 10\n",
    "\n",
    "qar_args = ArgumentsQAR()\n",
    "\n",
    "# Chuẩn bị Dataset\n",
    "qar_train_dset = ELI5DatasetQARetriver(eli5['train_eli5'], training=True)\n",
    "qar_valid_dset = ELI5DatasetQARetriver(eli5['validation_eli5'], training=False)\n",
    "\n",
    "# Tải mô hình BERT đã pre-trained\n",
    "qar_tokenizer, qar_model = make_qa_retriever_model(\n",
    "    model_name=qar_args.pretrained_model_name,\n",
    "    from_file=None,\n",
    "    device=\"cpu\"  # Sử dụng CPU\n",
    ")\n",
    "\n",
    "# Đảm bảo rằng model và tensor đều được chuyển sang CPU\n",
    "device = torch.device(\"cpu\")  # Xác định thiết bị là CPU\n",
    "qar_model.to(device)  # Đảm bảo mô hình được chuyển sang CPU\n",
    "\n",
    "# Hàm huấn luyện một epoch (chạy trên CPU)\n",
    "def train_qa_retriever_epoch(model, dataset, tokenizer, optimizer, scheduler, args, epoch):\n",
    "    device = torch.device(\"cpu\")  # Chạy trên CPU\n",
    "    model.train()\n",
    "    \n",
    "    for step, batch in enumerate(dataset):\n",
    "        print(f\"Step {step}, Batch: {batch}\")  # In ra batch\n",
    "        \n",
    "        if len(batch) == 3:  # Giả sử batch chứa input_ids, attention_mask và labels\n",
    "            input_ids, attention_mask, labels = batch\n",
    "            \n",
    "            # Chuyển các tensor sang CPU\n",
    "            input_ids = input_ids.to(device)\n",
    "            attention_mask = attention_mask.to(device)\n",
    "            labels = labels.to(device)\n",
    "            \n",
    "            # Huấn luyện\n",
    "            outputs = model(input_ids=input_ids, attention_mask=attention_mask, labels=labels)\n",
    "            loss = outputs.loss\n",
    "            \n",
    "            # Backpropagation\n",
    "            loss.backward()\n",
    "            optimizer.step()\n",
    "            scheduler.step()\n",
    "            optimizer.zero_grad()\n",
    "        else:\n",
    "            print(f\"Unexpected batch size: {len(batch)}\")\n",
    "            continue  # Bỏ qua nếu batch không đúng\n",
    "\n",
    "\n",
    "# Hàm huấn luyện chính (chạy trên CPU)\n",
    "def train_qa_retriever(qar_model, qar_tokenizer, qar_train_dset, qar_valid_dset, qar_args):\n",
    "    optimizer = torch.optim.AdamW(qar_model.parameters(), lr=qar_args.learning_rate)\n",
    "    scheduler = get_linear_schedule_with_warmup(optimizer, num_warmup_steps=100,\n",
    "                                                num_training_steps=(qar_args.num_epochs + 1) * \n",
    "                                                math.ceil(len(qar_train_dset) / qar_args.batch_size))\n",
    "    \n",
    "    for epoch in range(qar_args.num_epochs):\n",
    "        train_qa_retriever_epoch(qar_model, qar_train_dset, qar_tokenizer, optimizer, scheduler, qar_args, epoch)\n",
    "    \n",
    "    # Save only the final model (not optimizer or scheduler)\n",
    "    print(\"Saving final model to {}\".format(qar_args.model_save_name))\n",
    "    torch.save(qar_model.state_dict(), qar_args.model_save_name)\n",
    "\n",
    "# Bắt đầu huấn luyện trên CPU\n",
    "train_qa_retriever(qar_model, qar_tokenizer, qar_train_dset, qar_valid_dset, qar_args)\n"
   ]
  },
  {
   "cell_type": "code",
   "execution_count": null,
   "metadata": {},
   "outputs": [],
   "source": []
  }
 ],
 "metadata": {
  "kernelspec": {
   "display_name": "base",
   "language": "python",
   "name": "python3"
  },
  "language_info": {
   "codemirror_mode": {
    "name": "ipython",
    "version": 3
   },
   "file_extension": ".py",
   "mimetype": "text/x-python",
   "name": "python",
   "nbconvert_exporter": "python",
   "pygments_lexer": "ipython3",
   "version": "3.11.5"
  },
  "orig_nbformat": 4
 },
 "nbformat": 4,
 "nbformat_minor": 2
}
